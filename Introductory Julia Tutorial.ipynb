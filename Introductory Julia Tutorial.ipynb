{
 "cells": [
  {
   "cell_type": "markdown",
   "id": "fdfe9cee-2690-4028-ab4c-0f3470a6c88f",
   "metadata": {},
   "source": [
    "# <img src=\"https://github.com/JuliaLang/julia-logo-graphics/raw/master/images/julia-logo-color.png\" height=\"100\" />\n",
    "\r\n"
   ]
  },
  {
   "cell_type": "markdown",
   "id": "43308914-d291-4095-8588-20bc9bb62541",
   "metadata": {},
   "source": [
    "# WELCOME TO JULIA PROGRAMMING"
   ]
  },
  {
   "cell_type": "markdown",
   "id": "2113c2d4-6afe-4423-b773-e2ae834a8799",
   "metadata": {},
   "source": [
    "# Setting up google colab for using Julia"
   ]
  },
  {
   "cell_type": "markdown",
   "id": "e0e7003f-66ee-43e5-9d87-37623763fdc1",
   "metadata": {},
   "source": [
    "## Instructions\r\n",
    "1. Work on a copy of this notebook: _File_ > _Save a copy in Drive_ (you will need a Google account). Alternatively, you can download the notebook using _File_ > _Download .ipynb_, then upload it to [Colab](https://colab.research.google.com/).\r\n",
    "2. If you need a GPU: _Runtime_ > _Change runtime type_ > _Harware accelerator_ = _GPU_.\r\n",
    "3. Execute the following cell (click on it and press Ctrl+Enter) to install Julia, IJulia and other packages (if needed, update `JULIA_VERSION` and the other parameters). This takes a couple of minutes.\r\n",
    "4. Reload this page (press Ct⌘+R, or the F5 key) and continue to the next section.\r\n",
    "\r\n",
    "_Notes_:\r\n",
    "* If your Colab Runtime gets reset (e.g., due to inactivity), repeat steps 2, 3 and 4.\r\n",
    "* After installation, if you want to change the Julia version or activate/deactivate the GPU, you will need to reset the Runtime: _Runtime_ > _Factory reset runtime_ and repeat steps 3 and 4."
   ]
  },
  {
   "cell_type": "markdown",
   "id": "40bae6e0-d177-4cec-9937-78cc82c9ed14",
   "metadata": {},
   "source": [
    "Execute the following code block:"
   ]
  },
  {
   "cell_type": "code",
   "execution_count": null,
   "id": "5ee61810-160c-48fc-9f88-1edbe1497c3d",
   "metadata": {},
   "outputs": [],
   "source": [
    "#= \n",
    "\n",
    "%%shell\n",
    "set -e\n",
    "\n",
    "#---------------------------------------------------#\n",
    "JULIA_VERSION=\"1.10.4\" # any version ≥ 0.7.0\n",
    "JULIA_PACKAGES=\"IJulia BenchmarkTools\"\n",
    "JULIA_PACKAGES_IF_GPU=\"CUDA\" # or CuArrays for older Julia versions\n",
    "JULIA_NUM_THREADS=2\n",
    "#---------------------------------------------------#\n",
    "\n",
    "if [ -z `which julia` ]; then\n",
    "  # Install Julia\n",
    "  JULIA_VER=`cut -d '.' -f -2 <<< \"$JULIA_VERSION\"`\n",
    "  echo \"Installing Julia $JULIA_VERSION on the current Colab Runtime...\"\n",
    "  BASE_URL=\"https://julialang-s3.julialang.org/bin/linux/x64\"\n",
    "  URL=\"$BASE_URL/$JULIA_VER/julia-$JULIA_VERSION-linux-x86_64.tar.gz\"\n",
    "  wget -nv $URL -O /tmp/julia.tar.gz # -nv means \"not verbose\"\n",
    "  tar -x -f /tmp/julia.tar.gz -C /usr/local --strip-components 1\n",
    "  rm /tmp/julia.tar.gz\n",
    "\n",
    "  # Install Packages\n",
    "  nvidia-smi -L &> /dev/null && export GPU=1 || export GPU=0\n",
    "  if [ $GPU -eq 1 ]; then\n",
    "    JULIA_PACKAGES=\"$JULIA_PACKAGES $JULIA_PACKAGES_IF_GPU\"\n",
    "  fi\n",
    "  for PKG in `echo $JULIA_PACKAGES`; do\n",
    "    echo \"Installing Julia package $PKG...\"\n",
    "    julia -e 'using Pkg; pkg\"add '$PKG'; precompile;\"' &> /dev/null\n",
    "  done\n",
    "\n",
    "  # Install kernel and rename it to \"julia\"\n",
    "  echo \"Installing IJulia kernel...\"\n",
    "  julia -e 'using IJulia; IJulia.installkernel(\"julia\", env=Dict(\n",
    "      \"JULIA_NUM_THREADS\"=>\"'\"$JULIA_NUM_THREADS\"'\"))'\n",
    "  KERNEL_DIR=`julia -e \"using IJulia; print(IJulia.kerneldir())\"`\n",
    "  KERNEL_NAME=`ls -d \"$KERNEL_DIR\"/julia*`\n",
    "  mv -f $KERNEL_NAME \"$KERNEL_DIR\"/julia\n",
    "\n",
    "  echo ''\n",
    "  echo \"Successfully installed `julia -v`!\"\n",
    "  echo \"Please reload this page (press Ctrl+R, ⌘+R, or the F5 key) then\"\n",
    "  echo \"jump to the 'Checking the Installation' section.\"\n",
    "fi\n",
    "\n",
    "=#"
   ]
  },
  {
   "cell_type": "markdown",
   "id": "3fd93dc0-862c-494a-a9a7-3d940afa6698",
   "metadata": {},
   "source": [
    "Check the version of the Julia by running the cell block below:"
   ]
  },
  {
   "cell_type": "code",
   "execution_count": null,
   "id": "7a505e76-aeee-4d3b-93be-fb2279b68041",
   "metadata": {},
   "outputs": [],
   "source": [
    "versioninfo()"
   ]
  },
  {
   "cell_type": "markdown",
   "id": "a946e195-4c06-4f4f-83c1-278c87006b75",
   "metadata": {
    "jp-MarkdownHeadingCollapsed": true
   },
   "source": [
    "# INTRODUCTION "
   ]
  },
  {
   "cell_type": "markdown",
   "id": "1353e8e2-dc08-44d9-8085-51ad7cb38899",
   "metadata": {},
   "source": [
    "## Syntax differences between julia and python\n",
    "The following table outlines key syntax differences between Python and Julia. While both languages are high-level and dynamically typed, they exhibit distinct approaches to defining variables, functions, and data structures. Python employs indentation to define code blocks and uses the `def` keyword for function definitions, whereas Julia uses `function` and requires an `end` statement to close blocks. String interpolation, array definitions, and exception handling also differ, showcasing the unique features and style of each language. This comparison serves as a quick reference for those familiar with one language and looking to understand the syntax of the other."
   ]
  },
  {
   "cell_type": "markdown",
   "id": "464e2d5d-c369-4deb-9176-40c9b5ebdb28",
   "metadata": {},
   "source": [
    "| Feature                  | Python Syntax                          | Julia Syntax                             |\n",
    "|--------------------------|----------------------------------------|------------------------------------------|\n",
    "| Variable Declaration      | No explicit type declaration; dynamic typing | Optional type declaration; dynamic typing |\n",
    "| Comments                 | `# This is a comment`                 | `# This is a comment`                   |\n",
    "| Function Definition       | `def function_name(params):`          | `function function_name(params)`        |\n",
    "| Return Statement         | `return value`                         | `return value` or simply `value`       |\n",
    "| String Interpolation      | `f\"{variable}\"`                       | `\"$(variable)\"`                         |\n",
    "| Lists/Arrays             | `my_list = [1, 2, 3]`                 | `my_array = [1, 2, 3]`                  |\n",
    "| Multi-line String        | `\"\"\"This is a\\nmulti-line string\"\"\"`  | `\"\"\"This is a\\nmulti-line string\"\"\"`    |\n",
    "| For Loop                 | `for i in range(n):`                  | `for i in 1:n`                          |\n",
    "| If Statement             | `if condition:`                        | `if condition`                          |\n",
    "| Dictionary               | `my_dict = {\"key\": \"value\"}`         | `my_dict = Dict(\"key\" => \"value\")`     |\n",
    "| Function Call            | `function_name(args)`                  | `function_name(args)`                   |\n",
    "| Method Definition        | `def method_name(self, params):`     | `function method_name(params)`          |\n",
    "| Importing Libraries      | `import module_name`                  | `using ModuleName`                      |\n",
    "| Lambdas                  | `lambda x: x + 1`                     | `x -> x + 1`                            |\n",
    "| Exception Handling       | `try:` <br> `except Exception:`       | `try` <br> `catch e`                   |\n",
    "| Type Declaration         | No explicit type declaration           | `function func_name(arg::Int)`         |\n",
    "| End of Block             | Indentation defines block              | `end` statement defines block            |\n"
   ]
  },
  {
   "cell_type": "markdown",
   "id": "a59297f6-1953-45c7-a227-a24a0b462f54",
   "metadata": {},
   "source": [
    "# BASICS"
   ]
  },
  {
   "cell_type": "markdown",
   "id": "8bf73bb3-d372-4528-9913-c3d8d6c81da0",
   "metadata": {},
   "source": [
    "## HOW TO PRINT"
   ]
  },
  {
   "cell_type": "markdown",
   "id": "2262fcc5-5ea7-47e5-b2f7-380c7c6d73a7",
   "metadata": {},
   "source": [
    "In Julia we usually use `println()` to print"
   ]
  },
  {
   "cell_type": "code",
   "execution_count": null,
   "id": "3bb626d1-78c5-41bd-9fb0-3571aa47e4e6",
   "metadata": {},
   "outputs": [],
   "source": [
    "println(\"hello julia\")"
   ]
  },
  {
   "cell_type": "markdown",
   "id": "eedc47b2-049d-448b-8e2c-f1771450dd2f",
   "metadata": {},
   "source": [
    "## HOW TO ASSIGN VARIABLES"
   ]
  },
  {
   "cell_type": "markdown",
   "id": "ad37b128-a567-41c7-b7c0-05bcae4a0122",
   "metadata": {},
   "source": [
    "All we need is a variable name, value, and an equal's sign! Julia will figure out types for us."
   ]
  },
  {
   "cell_type": "code",
   "execution_count": null,
   "id": "31f548cb-7d85-4b9f-8950-731d3946d02e",
   "metadata": {},
   "outputs": [],
   "source": [
    "my_answer = 32\n",
    "typeof(my_answer)"
   ]
  },
  {
   "cell_type": "code",
   "execution_count": null,
   "id": "e1e7744f-3683-402d-9610-598fc8f07387",
   "metadata": {},
   "outputs": [],
   "source": [
    "sentance = \"Julia\"\n",
    "typeof(sentance)"
   ]
  },
  {
   "cell_type": "code",
   "execution_count": null,
   "id": "22672025-4c90-4e81-9fd2-c3f563243f7b",
   "metadata": {},
   "outputs": [],
   "source": [
    "my_pi = 3.14159\n",
    "typeof(my_pi)"
   ]
  },
  {
   "cell_type": "code",
   "execution_count": null,
   "id": "ce7657fe-19df-44a0-b9c5-cc31fa9cc789",
   "metadata": {},
   "outputs": [],
   "source": [
    "Air_resistance = true\n",
    "typeof(Air_resistance)"
   ]
  },
  {
   "cell_type": "code",
   "execution_count": null,
   "id": "b81689a7-8a04-464f-8033-e2ca1a406728",
   "metadata": {},
   "outputs": [],
   "source": [
    "gravity = false \n",
    "typeof(gravity)"
   ]
  },
  {
   "cell_type": "markdown",
   "id": "5966a8ca-f4d3-466a-9340-0c542d81e975",
   "metadata": {},
   "source": [
    "After assigning a value to a variable, we can reassign a value of a different type to that variable without any issue."
   ]
  },
  {
   "cell_type": "code",
   "execution_count": null,
   "id": "abee9fb4-befe-4201-8a9a-906f38c89e17",
   "metadata": {},
   "outputs": [],
   "source": [
    "my_answer  = \"Hello World\"\n",
    "typeof(my_answer)"
   ]
  },
  {
   "cell_type": "markdown",
   "id": "f78b3fbc-fb7a-4c43-b286-c84e1c9c24a5",
   "metadata": {},
   "source": [
    "## HOW TO COMMENT"
   ]
  },
  {
   "cell_type": "markdown",
   "id": "24561187-e8ec-424c-9ca6-91949a79226d",
   "metadata": {},
   "source": [
    "For single line comment:"
   ]
  },
  {
   "cell_type": "code",
   "execution_count": null,
   "id": "19a34fcf-226c-4393-8507-55518b2bedb8",
   "metadata": {},
   "outputs": [],
   "source": [
    "# we can ues hash (#) for a single line comment. \n",
    "# The comment is used to make program more readable to you and other users and it is ignored by julia."
   ]
  },
  {
   "cell_type": "markdown",
   "id": "4bfa49f3-2b6e-44c8-ba8e-ba5634312a16",
   "metadata": {},
   "source": [
    "For Multi Line comment:"
   ]
  },
  {
   "cell_type": "code",
   "execution_count": null,
   "id": "d62249d7-9a02-4330-a615-572f9b2442f7",
   "metadata": {},
   "outputs": [],
   "source": [
    "#= \n",
    "\n",
    "For Multi Line comment use \n",
    "' #= =# ' and your comment will be placed between them.\n",
    "\n",
    "=#"
   ]
  },
  {
   "cell_type": "markdown",
   "id": "7d9c3dbe-67dc-4900-aee4-a9ed37e355fa",
   "metadata": {},
   "source": [
    "## SYNTAX FOR MATHEMATICS\n"
   ]
  },
  {
   "cell_type": "code",
   "execution_count": null,
   "id": "b8a657be-4259-47af-ab2d-a222446423bd",
   "metadata": {},
   "outputs": [],
   "source": [
    "sum = 3 + 7"
   ]
  },
  {
   "cell_type": "code",
   "execution_count": null,
   "id": "184690cc-033a-4a03-8b6d-ec987828348f",
   "metadata": {},
   "outputs": [],
   "source": [
    "difference = 10 - 3"
   ]
  },
  {
   "cell_type": "code",
   "execution_count": null,
   "id": "c6ccc863-d5e6-4512-853c-0539d3498e72",
   "metadata": {},
   "outputs": [],
   "source": [
    "product = 20 * 5"
   ]
  },
  {
   "cell_type": "code",
   "execution_count": null,
   "id": "a5d945db-bce1-40ee-ba2a-745ce7744268",
   "metadata": {},
   "outputs": [],
   "source": [
    "quotient = 10/2"
   ]
  },
  {
   "cell_type": "code",
   "execution_count": null,
   "id": "bfc60ce6-e50a-4c9c-9527-2581780550a0",
   "metadata": {},
   "outputs": [],
   "source": [
    "power = 10 ^ 2"
   ]
  },
  {
   "cell_type": "code",
   "execution_count": null,
   "id": "630d7a2d-a624-424a-b3b2-588e9081ed89",
   "metadata": {},
   "outputs": [],
   "source": [
    "modulus = 101 % 2"
   ]
  },
  {
   "cell_type": "markdown",
   "id": "d950adca-1caa-4201-a960-8bd931348142",
   "metadata": {},
   "source": [
    "| Symbol  | Description                     | Julia Representation           |\r\n",
    "|---------|---------------------------------|--------------------------------|\r\n",
    "| `+`     | Addition                        | `a + b`                        |\r\n",
    "| `-`     | Subtraction                     | `a - b`                        |\r\n",
    "| `*`     | Multiplication                  | `a * b`                        |\r\n",
    "| `/`     | Division                        | `a / b`                        |\r\n",
    "| `^`     | Power                           | `a^b`                          |\r\n",
    "| `%`     | Modulus (Remainder)            | `a % b`                        |\r\n",
    "| `//`    | Floor Division                  | `a // b`                       |\r\n",
    "| `sqrt`  | Square Root                     | `sqrt(a)`                     |\r\n",
    "| `abs`   | Absolute Value                  | `abs(a)`                      |\r\n",
    "| `sin`   | Sine                            | `sin(a)`                      |\r\n",
    "| `cos`   | Cosine                          | `cos(a)`                      |\r\n",
    "| `tan`   | Tangent                         | `tan(a)`                      |\r\n",
    "| `asin`  | Arc Sine                        | `asin(a)`                     |\r\n",
    "| `acos`  | Arc Cosine                      | `acos(a)`                     |\r\n",
    "| `atan`  | Arc Tangent                     | `atan(a)`                     |\r\n",
    "| `exp`   | Exponential Function            | `exp(a)`                      |\r\n",
    "| `log`   | Natural Logarithm               | `log(a)`                      |\r\n",
    "| `log10` | Base-10 Logarithm              | `log10(a)`                    |\r\n",
    "| `log2`  | Base-2 Logarithm               | `log2(a)`                     |\r\n",
    "| `min`   | Minimum                         | `min(a, b)`                   |\r\n",
    "| `max`   | Maximum                         | `max(a, b)`                   |\r\n",
    "| `sum`   | Summation                       | `sum(a)`                      |\r\n",
    "| `prod`  | Product                         | `prod(a)`                     |\r\n"
   ]
  },
  {
   "cell_type": "markdown",
   "id": "3c1368f1-3033-4bac-b1dd-209422109b2a",
   "metadata": {
    "jp-MarkdownHeadingCollapsed": true
   },
   "source": [
    "# STRINGS"
   ]
  },
  {
   "cell_type": "markdown",
   "id": "57206283-54e7-4ba8-bd4a-6975e91e5310",
   "metadata": {},
   "source": [
    "Topics: \n",
    "<ol>\n",
    "    <li>How to get a string</li>\n",
    "    <li>String Interpolation</li>\n",
    "    <li>String Concatenation</li>\n",
    "</ol>"
   ]
  },
  {
   "cell_type": "markdown",
   "id": "1ec6b486-a00e-42a8-b03b-4c9288ba406e",
   "metadata": {
    "jp-MarkdownHeadingCollapsed": true
   },
   "source": [
    "## How to get a String"
   ]
  },
  {
   "cell_type": "markdown",
   "id": "f409b0db-1955-4f36-b406-ace6b4709141",
   "metadata": {},
   "source": [
    "To get a string you can enclose character in '' or \"\"\" \"\"\" "
   ]
  },
  {
   "cell_type": "code",
   "execution_count": null,
   "id": "478ec54c-3563-4c4a-ae74-4e5c42992613",
   "metadata": {},
   "outputs": [],
   "source": [
    "s1 = \" The string is a data type in programming wihch is text rather then a number. everything you type between the quotation marks is treated as a string \n",
    "even if it is not a text. like 3000, 67.4 etc\""
   ]
  },
  {
   "cell_type": "code",
   "execution_count": null,
   "id": "d344a0cb-6ff2-4715-ba5e-7b951341a38e",
   "metadata": {},
   "outputs": [],
   "source": [
    "s2 = \"\"\" I am also a string \"\"\""
   ]
  },
  {
   "cell_type": "markdown",
   "id": "12daab45-3a06-46b0-addf-5029e6e47d9f",
   "metadata": {},
   "source": [
    "There are a couple of differences between strings enclosed in a single and triple quotes. <br>\n",
    "One difference is that, in latter case, you can use quotation marks within your string. <br>\n",
    "\n",
    "For example:"
   ]
  },
  {
   "cell_type": "code",
   "execution_count": null,
   "id": "1777fa83-18cd-49ec-8a9b-91daebe45173",
   "metadata": {},
   "outputs": [],
   "source": [
    "\" Here we get an \"error\" because it's ambiguous where this string ends\""
   ]
  },
  {
   "cell_type": "code",
   "execution_count": null,
   "id": "d14bb280-9881-4ca7-836f-51fe47438ece",
   "metadata": {},
   "outputs": [],
   "source": [
    "\"\"\" Look, no \"Errors\" here, All nice and clean! \"\"\""
   ]
  },
  {
   "cell_type": "markdown",
   "id": "9fed519d-e1ac-4ccb-87b0-069fcb366626",
   "metadata": {},
   "source": [
    "Note that ' ' defines a character, but NOT a string."
   ]
  },
  {
   "cell_type": "code",
   "execution_count": null,
   "id": "72b4d93f-2f62-4e91-8a1c-5347df6d2ebc",
   "metadata": {},
   "outputs": [],
   "source": [
    "typeof( 'a' )"
   ]
  },
  {
   "cell_type": "code",
   "execution_count": null,
   "id": "8e43eca2-344f-42cc-b6c5-a24bd237ee62",
   "metadata": {},
   "outputs": [],
   "source": [
    "'We will get an error here'"
   ]
  },
  {
   "cell_type": "markdown",
   "id": "d1372ad7-340d-4225-8bbf-4ea67a4ec478",
   "metadata": {
    "jp-MarkdownHeadingCollapsed": true
   },
   "source": [
    "## String Interpolation "
   ]
  },
  {
   "cell_type": "markdown",
   "id": "b2591f66-c3a7-4596-9adb-7763764846a5",
   "metadata": {},
   "source": [
    "We can use the $ sign to insert variables into a string and to evaluate expression within the string. <br>\n",
    "Below is an example that contains some highly sensitive personal information."
   ]
  },
  {
   "cell_type": "code",
   "execution_count": null,
   "id": "c55be6eb-d19f-4edd-804c-87440a422b59",
   "metadata": {},
   "outputs": [],
   "source": [
    "name = \"Ali\"\n",
    "num_fingers = 10 \n",
    "num_of_toes = 10\n",
    "\n",
    "println(\"Hello, my name is $name.\")\n",
    "println(\"I have $num_fingers fingers and $num_of_toes toes\")"
   ]
  },
  {
   "cell_type": "markdown",
   "id": "e151ff10-4189-43f7-a1b7-758187c4d231",
   "metadata": {},
   "source": [
    "## String Concatenation"
   ]
  },
  {
   "cell_type": "markdown",
   "id": "30ef79ca-2b4e-4a71-bdc8-0b3edb697420",
   "metadata": {},
   "source": [
    "Concatenation means joining of strings or characters end to end."
   ]
  },
  {
   "cell_type": "markdown",
   "id": "96f63ec7-2afa-4dcb-87fc-8066f7aedca8",
   "metadata": {},
   "source": [
    "Below are three ways we can concatenate strings!<br>"
   ]
  },
  {
   "cell_type": "code",
   "execution_count": null,
   "id": "e31ec54f-5ebe-4758-af70-d2a5937bb823",
   "metadata": {},
   "outputs": [],
   "source": [
    "\"Einstein is the\" * \" most influencial theoretical physicist ever\""
   ]
  },
  {
   "cell_type": "code",
   "execution_count": null,
   "id": "f9e17f60-1931-4687-a55c-6f9056102d52",
   "metadata": {},
   "outputs": [],
   "source": [
    "S1 = \"Einstein was \"\n",
    "S2 = \"born in 1899\"\n",
    "\n",
    "S1 * S2"
   ]
  },
  {
   "cell_type": "code",
   "execution_count": null,
   "id": "2e06f350-72be-47b7-803f-0ad6f84ea471",
   "metadata": {},
   "outputs": [],
   "source": [
    "\"$S1$S2\""
   ]
  },
  {
   "cell_type": "markdown",
   "id": "6759d84e-51c4-47c3-93f5-351993987f95",
   "metadata": {},
   "source": [
    "# DATA STRUCTURES\n"
   ]
  },
  {
   "cell_type": "markdown",
   "id": "e8881bab-e88d-4bf3-a251-9c28a6babfe7",
   "metadata": {},
   "source": [
    "Once we start working with many pieces of data at once, it will be convenient for us to store data in structures like array or dictionaries <br>\n",
    "(rather than just relying on variables). <br>\n",
    "\n",
    "Types of data structures covered:\n",
    "<ol>\n",
    "    <li> Dictionaries</li>\n",
    "    <li> Tuples</li>\n",
    "    <li> Arrays</li>\n",
    "</ol>\n",
    "\n",
    "An overview, tuples and arrays are both ordered sequences of elements (so we can index into them). Dictionaries and arrays are both mutable. we'll explain this more below."
   ]
  },
  {
   "cell_type": "markdown",
   "id": "0d153647-712f-4858-b01f-fa2ce4eca00d",
   "metadata": {},
   "source": [
    "| Feature                    | **Dictionaries**                          | **Tuples**                               | **Arrays**                               |\r\n",
    "|----------------------------|-------------------------------------------|------------------------------------------|------------------------------------------|\r\n",
    "| **Definition**              | Collection of key-value pairs             | Ordered, immutable collection            | Ordered, mutable collection              |\r\n",
    "| **Syntax**                  | `Dict(\"key1\" => value1, \"key2\" => value2)`| `(value1, value2, value3)`               | `[value1, value2, value3]`               |\r\n",
    "| **Mutability**              | Mutable (you can add, update, remove)     | Immutable (values cannot be changed)     | Mutable (values can be changed)          |\r\n",
    "| **Indexing**                | By keys (e.g., `dict[\"key1\"]`)            | By position (e.g., `tuple[1]`)           | By position (e.g., `array[1]`)           |\r\n",
    "| **Ordered**                 | No (unordered collection)                 | Yes (order is preserved)                 | Yes (order is preserved)                 |\r\n",
    "| **Duplicate Keys/Values**   | Keys must be unique, values can repeat    | Values can repeat                        | Values can repeat                        |\r\n",
    "| **Use Case**                | Look up values by keys                    | Fixed collection of values that won't change | Collection of elements that may change over time |\r\n",
    "| **Size**                    | Can grow/shrink by adding/removing pairs  | Fixed size, cannot grow/shrink           | Can grow/shrink by adding/removing elements |\r\n",
    "| **Example**                 | `Dict(\"apple\" => 1, \"banana\" => 2)`       | `(3.14, \"pi\", true)`                     | `[1, 2, 3, 4, 5]`                        |\r\n"
   ]
  },
  {
   "cell_type": "markdown",
   "id": "868714c3-aca5-43b2-82db-3bfbd3ae1c07",
   "metadata": {
    "jp-MarkdownHeadingCollapsed": true
   },
   "source": [
    "## Dictionaries"
   ]
  },
  {
   "cell_type": "markdown",
   "id": "21e500d8-98b8-487d-8ace-b5fc80328816",
   "metadata": {},
   "source": [
    "If we have sets of data related to one another, we may choose to store that data in a dictionary. A good example is a contact list, where we associate names with phone numbers."
   ]
  },
  {
   "cell_type": "markdown",
   "id": "4ef08a8a-a9d1-4a9e-8709-88bc30948cc5",
   "metadata": {},
   "source": [
    "To create a dictionary we can use `Dict()` function."
   ]
  },
  {
   "cell_type": "code",
   "execution_count": null,
   "id": "b3d1c9c9-a5c7-4423-a3b0-b0d125c44b94",
   "metadata": {},
   "outputs": [],
   "source": [
    "my_phone_book = Dict(\"Hasan\" => \"0333-4320932\", \n",
    "                     \"Shahzaib\" => \"0321-985732\")"
   ]
  },
  {
   "cell_type": "markdown",
   "id": "c687ea30-a25d-4408-ae34-f371382a1c05",
   "metadata": {},
   "source": [
    "We can add another entry to this dictionary as follows:"
   ]
  },
  {
   "cell_type": "code",
   "execution_count": null,
   "id": "10d881f0-d817-4bdf-87a2-5840b7ae87e0",
   "metadata": {},
   "outputs": [],
   "source": [
    "my_phone_book[\"Maisam\"] = \"0342-320739\""
   ]
  },
  {
   "cell_type": "markdown",
   "id": "a1c86198-3782-497e-b537-432ee8c2df18",
   "metadata": {},
   "source": [
    "Let's check our phone book now."
   ]
  },
  {
   "cell_type": "code",
   "execution_count": null,
   "id": "137c9426-ad11-47aa-be05-916e682a4da6",
   "metadata": {},
   "outputs": [],
   "source": [
    "my_phone_book"
   ]
  },
  {
   "cell_type": "markdown",
   "id": "4fd81f0f-6698-4b0f-a1d5-8ddc788b8429",
   "metadata": {},
   "source": [
    "The number have been added successfully."
   ]
  },
  {
   "cell_type": "markdown",
   "id": "f5bcf12f-cb3d-4c97-88b4-ce5305f2e3a3",
   "metadata": {},
   "source": [
    "In this example, each name and number is a \"Key\" and \"Value\" pair. We can grab Hasan's number (a value) using the associated key."
   ]
  },
  {
   "cell_type": "code",
   "execution_count": null,
   "id": "e5815b14-fd51-478a-8a92-4bb11ec06296",
   "metadata": {},
   "outputs": [],
   "source": [
    "my_phone_book[\"Hasan\"]"
   ]
  },
  {
   "cell_type": "markdown",
   "id": "c8199b06-c05b-40bd-88e8-67d398a7aab2",
   "metadata": {},
   "source": [
    "We can also get Hasan's number - and simultaneously delete him from our contact<br>\n",
    "list - by using `pop!` function."
   ]
  },
  {
   "cell_type": "code",
   "execution_count": null,
   "id": "46624db5-ac86-43f8-bdf9-e353d43007ed",
   "metadata": {},
   "outputs": [],
   "source": [
    "pop!(my_phone_book, \"Hasan\")"
   ]
  },
  {
   "cell_type": "code",
   "execution_count": null,
   "id": "66b334b2-287e-4c82-ab7a-200e659cee00",
   "metadata": {},
   "outputs": [],
   "source": [
    "my_phone_book"
   ]
  },
  {
   "cell_type": "markdown",
   "id": "ddeba04f-2dad-4943-b68c-6a2dbda63c2f",
   "metadata": {},
   "source": [
    "Hasan's number is no longer in the Dictionary."
   ]
  },
  {
   "cell_type": "markdown",
   "id": "50f0f198-b259-4cb9-b65d-5e46d698e526",
   "metadata": {},
   "source": [
    "Unlike tuples and arrays, dictionaries aren't ordered, so we can't index into them."
   ]
  },
  {
   "cell_type": "code",
   "execution_count": null,
   "id": "e04cb835-c44f-4502-a6cf-7ccc4da9956a",
   "metadata": {},
   "outputs": [],
   "source": [
    "my_phone_book[1]"
   ]
  },
  {
   "cell_type": "markdown",
   "id": "7ee91a79-5e8e-4b70-869b-45cc040213b4",
   "metadata": {},
   "source": [
    "### Exercise 1: Working with Dictionaries\n",
    "\n",
    "Create a dictionary with student names as keys and their grades as values. Then:\n",
    "\n",
    "1. Print all the student names and grades.\n",
    "2. Add a new student and grade to the dictionary.\n",
    "3. Update the grade of an existing student.\n",
    "4. Find the grade of a particular student.\n",
    "5. Remove a student from the dictionary."
   ]
  },
  {
   "cell_type": "code",
   "execution_count": null,
   "id": "b9f0a2a1-411a-4907-83fd-81179391dd97",
   "metadata": {},
   "outputs": [],
   "source": [
    "#Write your code here:"
   ]
  },
  {
   "cell_type": "markdown",
   "id": "72b8e93f-7a2f-41ea-b799-c65e7eddaea7",
   "metadata": {},
   "source": [
    "<details>\n",
    "<summary>Answer</summary>\n",
    "\n",
    "```julia\n",
    "# Dictionary Exercise\n",
    "student_grades = Dict(\"Ali\" => 85, \"Ayesha\" => 90, \"Sara\" => 78)\n",
    "\n",
    "# Print all students and grades\n",
    "println(student_grades)\n",
    "\n",
    "# Add a new student\n",
    "student_grades[\"Hassan\"] = 88\n",
    "\n",
    "# Update a grade\n",
    "student_grades[\"Ayesha\"] = 95\n",
    "\n",
    "# Find a particular student's grade\n",
    "println(student_grades[\"Ali\"])\n",
    "\n",
    "# Remove a student\n",
    "pop!(student_grades, \"Sara\")\n",
    "\n",
    "```"
   ]
  },
  {
   "cell_type": "markdown",
   "id": "a5546685-9897-4eb2-b891-e6a07204284a",
   "metadata": {
    "jp-MarkdownHeadingCollapsed": true
   },
   "source": [
    "## Tuples"
   ]
  },
  {
   "cell_type": "markdown",
   "id": "78464c73-adae-4dd7-8ff8-ba86f25532a2",
   "metadata": {},
   "source": [
    "We create a tuple by enclosing an ordered sequence of elements in `( )`."
   ]
  },
  {
   "cell_type": "code",
   "execution_count": null,
   "id": "307696dd-4d0c-4bf7-a3c5-0b18392d4974",
   "metadata": {},
   "outputs": [],
   "source": [
    "my_fav_scientists = ( \"Einstein\" , \"Feynman\", \"Newton\")"
   ]
  },
  {
   "cell_type": "markdown",
   "id": "18b2c139-e501-48f8-a473-9865f479371f",
   "metadata": {},
   "source": [
    "We can index into this tuple."
   ]
  },
  {
   "cell_type": "code",
   "execution_count": null,
   "id": "3e87750b-a6a5-43c8-af79-2ca5ebd45792",
   "metadata": {},
   "outputs": [],
   "source": [
    "my_fav_scientists[2]"
   ]
  },
  {
   "cell_type": "markdown",
   "id": "b88334fd-ada6-433e-8d97-255550fd8235",
   "metadata": {},
   "source": [
    "But since tuples are immutable, we can't update them once they are formed."
   ]
  },
  {
   "cell_type": "code",
   "execution_count": null,
   "id": "512799bb-fd36-46bc-8c94-f0630dc1b0e8",
   "metadata": {},
   "outputs": [],
   "source": [
    "my_fav_scientists[1] = \"Max Planck\""
   ]
  },
  {
   "cell_type": "markdown",
   "id": "6885f868-d886-419e-bbaa-8de0394bc427",
   "metadata": {},
   "source": [
    "In Julia, tuples are typically used to group values together, and they can hold elements of different types.<br>\n",
    "However, naming the elements within a tuple creates named tuple."
   ]
  },
  {
   "cell_type": "markdown",
   "id": "bf6c7b0c-eb5f-40d1-ba78-fe86f6cbb255",
   "metadata": {},
   "source": [
    "Key Differences from Regular Tuples:\n",
    "<ol>\n",
    "    <li>In regular tuples, elements are accessed by index (e.g., tuple[1]).</li>\n",
    "    <li>In named tuples, elements are accessed by their names (e.g., tuple.name).</li>\n",
    "    \n",
    "</ol>\n",
    "\n",
    "Example of named tuple is:"
   ]
  },
  {
   "cell_type": "code",
   "execution_count": null,
   "id": "65ac1dd0-c141-4959-a667-d5436bbff08f",
   "metadata": {},
   "outputs": [],
   "source": [
    "# Named tuple with planets and their gravity (in m/s^2)\n",
    "planet_gravity = (Mercury=3.7, Venus=8.87, Earth=9.81, Mars=3.71, Jupiter=24.79, Saturn=10.44, Uranus=8.69, Neptune=11.15)\n",
    "\n",
    "# Accessing gravity values by planet name\n",
    "println(\"Gravity on Earth: \", planet_gravity.Earth, \" m/s^2\")\n",
    "println(\"Gravity on Mars: \", planet_gravity.Mars, \" m/s^2\")\n",
    "println(\"Gravity on Jupiter: \", planet_gravity.Jupiter, \" m/s^2\")\n"
   ]
  },
  {
   "cell_type": "markdown",
   "id": "14931c3f-cd6e-4d31-8255-5b1aa337c022",
   "metadata": {},
   "source": [
    "### Exercise 2: Working with Tuples\n",
    "\n",
    "Create a tuple that contains the dimensions of a rectangle (length and width). Then:\n",
    "\n",
    "1. Calculate the area and perimeter of the rectangle.\n",
    "2. Try changing the value of an element in the tuple and see what happens.\n"
   ]
  },
  {
   "cell_type": "code",
   "execution_count": null,
   "id": "f0cf1c77-bbac-44cd-b005-ff4857e46e37",
   "metadata": {},
   "outputs": [],
   "source": [
    "#Write your code here"
   ]
  },
  {
   "cell_type": "markdown",
   "id": "a08010ec-21f4-49b1-892f-a2a4f9152a1f",
   "metadata": {},
   "source": [
    "<details>\n",
    "<summary>Answers</summary>\n",
    "\n",
    "```julia\n",
    "# Tuple Exercise\n",
    "rectangle = (length=5, width=3)\n",
    "\n",
    "# Calculate area and perimeter\n",
    "area = rectangle.length * rectangle.width\n",
    "perimeter = 2 * (rectangle.length + rectangle.width)\n",
    "\n",
    "println(\"Area: $area\")\n",
    "println(\"Perimeter: $perimeter\")\n",
    "\n",
    "# Attempt to change a tuple element\n",
    "# rectangle.length = 6  # This will cause an error because tuples are immutable.\n",
    "```"
   ]
  },
  {
   "cell_type": "markdown",
   "id": "a80ae1d3-ef70-4e90-9580-8abdcad2cb49",
   "metadata": {
    "jp-MarkdownHeadingCollapsed": true
   },
   "source": [
    "## Arrays"
   ]
  },
  {
   "cell_type": "markdown",
   "id": "1a53c5d3-b797-4575-8da4-8a9c591bae7d",
   "metadata": {},
   "source": [
    "Unlike Tuples, arrays are mutable. Unlike dictionaries, arrays contain ordered sequences of elements. <br>\n",
    "We can create an array by encloding this sequence of elements in `[]`."
   ]
  },
  {
   "cell_type": "code",
   "execution_count": null,
   "id": "c0794da3-1621-42be-92b6-65bc1686dda0",
   "metadata": {},
   "outputs": [],
   "source": [
    "myfriends = [\"Ali\" , \"Shahzaib\" , \"Ijlal\", \"Sheharyar\"]"
   ]
  },
  {
   "cell_type": "markdown",
   "id": "0dd660dd-fd75-4592-8efa-17be875587c8",
   "metadata": {},
   "source": [
    "Or to store a sequence of numbers"
   ]
  },
  {
   "cell_type": "code",
   "execution_count": null,
   "id": "091d9f88-4bdb-467d-917e-bb848d3015f9",
   "metadata": {},
   "outputs": [],
   "source": [
    "fibonacci = [1, 1, 2, 3, 5, 8, 13, \"ali\"]"
   ]
  },
  {
   "cell_type": "markdown",
   "id": "0c0366c4-ccb2-4396-b8f8-d0835a28a64a",
   "metadata": {},
   "source": [
    "Once we have an array, we can grab individual pieces of data from inside that array by indexing into the array.<br>\n",
    "For example, if we want the third friend listed in `myfriends`, we will write:"
   ]
  },
  {
   "cell_type": "code",
   "execution_count": null,
   "id": "59b569c6-6d3d-495e-94aa-d2ba45be7571",
   "metadata": {},
   "outputs": [],
   "source": [
    "myfriends[3] "
   ]
  },
  {
   "cell_type": "markdown",
   "id": "daa67d3a-f0aa-4c8c-b8bd-5cfee643f670",
   "metadata": {},
   "source": [
    "We can use indexing to edit an existing element of an array. "
   ]
  },
  {
   "cell_type": "code",
   "execution_count": null,
   "id": "d8ad151e-9d49-405d-ba37-d56006519699",
   "metadata": {},
   "outputs": [],
   "source": [
    "myfriends[3] = \"Abbas\""
   ]
  },
  {
   "cell_type": "code",
   "execution_count": null,
   "id": "e192dac3-3e01-4a6a-b31a-7159d125bbbc",
   "metadata": {},
   "outputs": [],
   "source": [
    "myfriends"
   ]
  },
  {
   "cell_type": "markdown",
   "id": "3d94a331-739a-4361-9d57-f600d86a099b",
   "metadata": {},
   "source": [
    "We can also edit the array by using `push!` and `pop!` functions. <br>\n",
    "`push!` add element to the end of an array. <br>\n",
    "`pop!` removes the last element of an array. <br>\n",
    "\n",
    "We can add another number to our fibonnaci sequence."
   ]
  },
  {
   "cell_type": "code",
   "execution_count": null,
   "id": "53ed4a38-75f0-4692-aa63-75a5a0d3dbd2",
   "metadata": {},
   "outputs": [],
   "source": [
    "push!(fibonacci, 21)"
   ]
  },
  {
   "cell_type": "code",
   "execution_count": null,
   "id": "4c864e0b-378b-4c8d-a755-b8c82e58080c",
   "metadata": {},
   "outputs": [],
   "source": [
    "pop!(fibonacci)"
   ]
  },
  {
   "cell_type": "code",
   "execution_count": null,
   "id": "a000cbd3-cb31-4c92-b134-91c4e56decf7",
   "metadata": {},
   "outputs": [],
   "source": [
    "fibonacci"
   ]
  },
  {
   "cell_type": "markdown",
   "id": "5bf76aec-d04e-4078-a586-44d07338d0d8",
   "metadata": {},
   "source": [
    "So i've given you examples of only 1D arrays which are generally scalars, but arrays can have an arbitrary number of dimensions and can also store other arrays."
   ]
  },
  {
   "cell_type": "code",
   "execution_count": null,
   "id": "3a469dae-d433-4042-ba06-c435fa741410",
   "metadata": {},
   "outputs": [],
   "source": [
    "matrix = [ [1, 2, 4], [5, 6, 8], [8, 1, 6]]"
   ]
  },
  {
   "cell_type": "markdown",
   "id": "d847c04e-0c86-4127-8278-d8ccf88f115c",
   "metadata": {},
   "source": [
    "In Julia we can use many built in functions to operate on arrays. like `minimum`, `maximum`, `extreme`, `sum`, `mean()`,`sort`."
   ]
  },
  {
   "cell_type": "markdown",
   "id": "2be232c8-b37c-4175-9aed-2508ca460f07",
   "metadata": {},
   "source": [
    "`minimum()` and `maximum()` functions returns the smallest and largest element in an array, respectively."
   ]
  },
  {
   "cell_type": "code",
   "execution_count": null,
   "id": "6c1362eb-9a0b-425f-9749-344da3ea38f7",
   "metadata": {},
   "outputs": [],
   "source": [
    "# Array of numbers\n",
    "numbers = [3, 1, 4, 1, 5, 9]\n",
    "\n",
    "# Find minimum and maximum\n",
    "min_value = minimum(numbers)\n",
    "max_value = maximum(numbers)\n",
    "\n",
    "println(\"Minimum: $min_value\")  # Output: Minimum: 1\n",
    "println(\"Maximum: $max_value\")  # Output: Maximum: 9\n"
   ]
  },
  {
   "cell_type": "markdown",
   "id": "7bb67392-d04b-48dc-9a95-bafb7f217126",
   "metadata": {},
   "source": [
    "`extreme()` function returns a tuple containing both the minimum and maximum values in an array."
   ]
  },
  {
   "cell_type": "code",
   "execution_count": null,
   "id": "54afde42-7cf9-4106-aa47-dd42d6206dfd",
   "metadata": {},
   "outputs": [],
   "source": [
    "# Find both min and max values in one go\n",
    "min_max = extrema(numbers)\n",
    "\n",
    "println(\"Min: \", min_max[1])  # Output: Min: 1\n",
    "println(\"Max: \", min_max[2])  # Output: Max: 9\n"
   ]
  },
  {
   "cell_type": "markdown",
   "id": "ad6f185e-2b6b-4b21-bb71-a93e50ce1db6",
   "metadata": {},
   "source": [
    "`sum()`calculates the sum of all elements in the array. <br>\n",
    "`mean()` calculates the average of the elements (you need to import `Statistics` for mean)."
   ]
  },
  {
   "cell_type": "code",
   "execution_count": null,
   "id": "831fd22e-e9df-44ba-a710-082fa648a512",
   "metadata": {},
   "outputs": [],
   "source": [
    "using Statistics\n",
    "\n",
    "# Sum and mean of the array\n",
    "total_sum = sum(numbers)\n",
    "average = mean(numbers)\n",
    "\n",
    "println(\"Sum: $total_sum\")  # Output: Sum: 23\n",
    "println(\"Average: $average\")  # Output: Average: 3.8333333333333335\n"
   ]
  },
  {
   "cell_type": "markdown",
   "id": "f27c2a88-7638-4782-8d86-d54e176be593",
   "metadata": {},
   "source": [
    "`sort()` function sorts the array in ascending order by default and for sorting in descending order add another argument of `rev = true`."
   ]
  },
  {
   "cell_type": "code",
   "execution_count": null,
   "id": "46c3eadf-c651-40a1-b036-212a723a693c",
   "metadata": {},
   "outputs": [],
   "source": [
    "# Sort the array in ascending and descending order\n",
    "sorted_asc = sort(numbers)\n",
    "sorted_desc = sort(numbers, rev=true)\n",
    "\n",
    "println(\"Sorted Ascending: \", sorted_asc)  # Output: [1, 1, 3, 4, 5, 9]\n",
    "println(\"Sorted Descending: \", sorted_desc)  # Output: [9, 5, 4, 3, 1, 1]\n"
   ]
  },
  {
   "cell_type": "markdown",
   "id": "eaa1700e-84b8-4f35-a77e-c0bca73409a8",
   "metadata": {},
   "source": [
    "### Exercise 3: Working with Arrays\n",
    "\n",
    "Create an array of numbers and perform the following:\n",
    "\n",
    "1. Print all the elements.\n",
    "2. Find the maximum, minimum, and average value.\n",
    "3. Add new elements to the array.\n",
    "4. Sort the array in ascending and descending order."
   ]
  },
  {
   "cell_type": "code",
   "execution_count": null,
   "id": "160e69ca-c63d-4289-aeb6-67f9df7f2181",
   "metadata": {},
   "outputs": [],
   "source": [
    "#Write your code here"
   ]
  },
  {
   "cell_type": "markdown",
   "id": "a1526e10-0711-4667-8a19-afbb331deec2",
   "metadata": {},
   "source": [
    "<details>\n",
    "<summary>Answer</summary>\n",
    "\n",
    "```julia\n",
    "# Array Exercise\n",
    "numbers = [3, 1, 4, 1, 5, 9]\n",
    "\n",
    "# Print elements\n",
    "println(numbers)\n",
    "\n",
    "# Find max, min, and average\n",
    "println(\"Max: \", maximum(numbers))\n",
    "println(\"Min: \", minimum(numbers))\n",
    "println(\"Average: \", mean(numbers))\n",
    "\n",
    "# Add a new element\n",
    "push!(numbers, 2)\n",
    "\n",
    "# Sort the array\n",
    "sorted_asc = sort(numbers)\n",
    "sorted_desc = sort(numbers, rev=true)\n",
    "\n",
    "println(\"Sorted Ascending: \", sorted_asc)\n",
    "println(\"Sorted Descending: \", sorted_desc)\n",
    "```"
   ]
  },
  {
   "cell_type": "markdown",
   "id": "6c38676f-f811-492b-9f1e-6ad14f0a590c",
   "metadata": {},
   "source": [
    "# LOOPS"
   ]
  },
  {
   "cell_type": "markdown",
   "id": "f5865b8a-b765-4f64-84a1-b3a70de7e22c",
   "metadata": {},
   "source": [
    "Topics: \n",
    "<ol>\n",
    "    <li> `While` loops</li>\n",
    "    <li> `for` loops</li>\n",
    "</ol>"
   ]
  },
  {
   "cell_type": "markdown",
   "id": "1b798029-0db4-46fa-8e08-6022ca45a487",
   "metadata": {},
   "source": [
    "## While Loops"
   ]
  },
  {
   "cell_type": "markdown",
   "id": "a7725689-d905-4d72-a16d-b4c3d3b989ae",
   "metadata": {},
   "source": [
    "A `while` loop in Julia is a control flow statement that repeatedly executes a block of code as long as a specified condition remains true. The condition is checked before each iteration, and if it evaluates to false, the loop terminates."
   ]
  },
  {
   "cell_type": "markdown",
   "id": "292f2d7c-fe06-4bf5-ab69-addf152576c1",
   "metadata": {},
   "source": [
    "Syntax for a `while` loop is: <br>\n",
    "\n",
    "     `while` *Condition*\n",
    "        *Loops body*\n",
    "    *Ends*"
   ]
  },
  {
   "cell_type": "markdown",
   "id": "3f08aaf7-3d43-4219-99c0-d5507f717607",
   "metadata": {},
   "source": [
    "For example, we could use `while` loop to count or to iterate over an array."
   ]
  },
  {
   "cell_type": "code",
   "execution_count": null,
   "id": "cdf41561-1b47-4976-a0b7-748bc92bc2d0",
   "metadata": {},
   "outputs": [],
   "source": [
    "n = 0                   # Initialize n to 0\n",
    "while n < 10            # Continue the loop while n is less than 10\n",
    "    n += 1             # Increment n by 1\n",
    "    println(n)         # Print the current value of n\n",
    "end\n"
   ]
  },
  {
   "cell_type": "code",
   "execution_count": null,
   "id": "10471df2-9c19-4f49-b82b-146f3b43950c",
   "metadata": {},
   "outputs": [],
   "source": [
    "myfriends = [\"Hasan\", \"Alex\", \"Ali\"]  # Step 1: Create an array of friends\n",
    "\n",
    "i = 1                                   # Step 2: Initialize the index i to 1\n",
    "while i <= length(myfriends)            # Step 3: Continue the loop while i is less than or equal to the length of the array\n",
    "    friend = myfriends[i]               # Step 4: Access the friend at the current index i\n",
    "    println(\"Hi $friend, it is great to see you\")  # Step 5: Print a greeting for the current friend\n",
    "    i += 1                               # Step 6: Increment the index i by 1\n",
    "end                                      # End of the while loop\n"
   ]
  },
  {
   "cell_type": "markdown",
   "id": "1e6e8623-31e0-46f2-bb6b-2215d9785101",
   "metadata": {},
   "source": [
    "### Exercise 4:"
   ]
  },
  {
   "cell_type": "markdown",
   "id": "47dd0c8f-c1cb-4e0a-9b38-c3be87062a51",
   "metadata": {},
   "source": [
    "Using while loop, write a code which print a countdown timer from 5 to 1, simulating a countdown before an event."
   ]
  },
  {
   "cell_type": "code",
   "execution_count": null,
   "id": "4b6ffdf4-e1b5-429b-a956-961a0eb0304e",
   "metadata": {},
   "outputs": [],
   "source": [
    "#Your Code Here:"
   ]
  },
  {
   "cell_type": "markdown",
   "id": "075c1601-b488-468f-9a09-604c2d022e04",
   "metadata": {},
   "source": [
    "<details>\n",
    "\n",
    "<summary>Answer</summary>\n",
    "\n",
    "\n",
    "```python\n",
    "count = 5\n",
    "while count > 0\n",
    "    println(count)\n",
    "    count -= 1  # Decrease the count by 1\n",
    "end\n",
    "println(\"Go!\")\n",
    "```\n",
    "</details>"
   ]
  },
  {
   "cell_type": "markdown",
   "id": "2f20b1ae-bdfa-40f0-860b-395ba2c8b4e1",
   "metadata": {},
   "source": [
    "## For Loops\n"
   ]
  },
  {
   "cell_type": "markdown",
   "id": "91c68d0a-cdbd-471a-9bb4-89ed1cdc8950",
   "metadata": {},
   "source": [
    "A `for` loop in Julia is a control flow statement that iterates over a collection (such as a range, array, or set) or any iterable object, executing a block of code for each element in the collection."
   ]
  },
  {
   "cell_type": "markdown",
   "id": "f2d64d46-ae7b-43f3-adb9-56cbe3743525",
   "metadata": {},
   "source": [
    "Syntax for a `for` loop is: <br>\n",
    "\n",
    "     `for` *var* in *loop iterable*\n",
    "        *Loops body*\n",
    "    *Ends*"
   ]
  },
  {
   "cell_type": "markdown",
   "id": "658d40ee-efb2-46a8-8e2d-8cc57d082fcc",
   "metadata": {},
   "source": [
    "We could use a for loop to generate the same results as either of the examples above:"
   ]
  },
  {
   "cell_type": "code",
   "execution_count": null,
   "id": "a2eb69ad-2fda-42b3-bca2-4e777464eec5",
   "metadata": {},
   "outputs": [],
   "source": [
    "# Loop through numbers from 1 to 10\n",
    "for n in 1:10\n",
    "    # Print the current value of n\n",
    "    println(n)\n",
    "end\n"
   ]
  },
  {
   "cell_type": "code",
   "execution_count": null,
   "id": "e53a07ed-abf7-43ae-b88f-6851c452b0e4",
   "metadata": {},
   "outputs": [],
   "source": [
    "myfriends = [\"Ali\" , \"Asghar\", \"Abbas\"]              #created an array\n",
    "\n",
    "for friend in myfriends                              #initiate a for loop\n",
    "    println(\"Hi $friend, it's great to see you!\")    #print each element of array after $\n",
    "end                                                  #End the loop"
   ]
  },
  {
   "cell_type": "markdown",
   "id": "0fc8c35f-4ef4-4a12-a081-42b44bfd2ece",
   "metadata": {},
   "source": [
    "Note that we could replace `in` wih either `=`"
   ]
  },
  {
   "cell_type": "code",
   "execution_count": null,
   "id": "a406f312-264c-441f-8603-5afa876ec05e",
   "metadata": {},
   "outputs": [],
   "source": [
    "for n = 1:10 \n",
    "    println(n)\n",
    "end"
   ]
  },
  {
   "cell_type": "markdown",
   "id": "649caf1f-5639-4ff5-843f-7d5adc13ed07",
   "metadata": {},
   "source": [
    "Now let's use `for` loops to create some addition tables, where the value of every entry is the sum of it's row and column indices."
   ]
  },
  {
   "cell_type": "markdown",
   "id": "c3fa9ec4-3559-494c-92a2-e074deb60ccf",
   "metadata": {},
   "source": [
    "First, we intialize an array:"
   ]
  },
  {
   "cell_type": "code",
   "execution_count": null,
   "id": "955fc7c0-7447-444c-983a-9e8ea08dbab7",
   "metadata": {},
   "outputs": [],
   "source": [
    "m, n = 5, 5            # Set matrix dimensions\n",
    "A = zeros(m, n)        # Create a 5x5 matrix filled with zeros\n",
    "A                      # Display the matrix\n"
   ]
  },
  {
   "cell_type": "code",
   "execution_count": null,
   "id": "d57c6032-fd8f-4ef1-933e-46db83ac6218",
   "metadata": {},
   "outputs": [],
   "source": [
    "for i in 1:m          # Outer loop iterates from 1 to m (number of rows)\n",
    "    for j in 1:n      # Inner loop iterates from 1 to n (number of columns)\n",
    "        A[i,j] = i + j  # Assigns the sum of i and j to the element A[i,j]\n",
    "    end\n",
    "end\n",
    "A  # Display the resulting matrix A\n"
   ]
  },
  {
   "cell_type": "markdown",
   "id": "edc77d23-12f6-49f5-8f1d-a8f2524c503a",
   "metadata": {},
   "source": [
    "Here's some syntatic sugar for the same nested `for` loop."
   ]
  },
  {
   "cell_type": "code",
   "execution_count": null,
   "id": "3493a7b5-10ab-427f-bfc6-ffa2f2a9f59c",
   "metadata": {},
   "outputs": [],
   "source": [
    "B = zeros(m,n)\n"
   ]
  },
  {
   "cell_type": "code",
   "execution_count": null,
   "id": "9328c22f-3910-4d33-95a4-a8513fd115a3",
   "metadata": {},
   "outputs": [],
   "source": [
    "for i in 1:m, j in 1:n\n",
    "    B[i,j] = i +j\n",
    "end\n",
    "B"
   ]
  },
  {
   "cell_type": "markdown",
   "id": "c3fda3f8-b80f-4d03-ba10-fbc5c3c7d4bc",
   "metadata": {},
   "source": [
    "The more \"Julia\" way to create this addition table would have been with an *array comprehension*"
   ]
  },
  {
   "cell_type": "code",
   "execution_count": null,
   "id": "7a48a9f0-7d61-4f5c-8eb9-0922b7d6a973",
   "metadata": {},
   "outputs": [],
   "source": [
    "C = [i + j for i in 1:m, j in 1:n]"
   ]
  },
  {
   "cell_type": "markdown",
   "id": "8a0e058f-6d7c-4b0f-88c7-66fb63691279",
   "metadata": {},
   "source": [
    "In this next example, we embed an *array comprehension* in a `for` loop, generating addition tables of growing size\n"
   ]
  },
  {
   "cell_type": "code",
   "execution_count": null,
   "id": "4ae1b8c1-9003-4eef-a2dc-74a21630d014",
   "metadata": {},
   "outputs": [],
   "source": [
    "for n in 1:10\n",
    "    A = [i + j for i in 1:n, j in 1:n]  # Create an n×n matrix where A[i, j] = i + j\n",
    "    display(A)                           # Display the matrix for each value of n\n",
    "end\n"
   ]
  },
  {
   "cell_type": "markdown",
   "id": "73a35275-27c1-475c-9b0f-4f2c5266d6d2",
   "metadata": {},
   "source": [
    "### Exercise 5:"
   ]
  },
  {
   "cell_type": "markdown",
   "id": "083e8472-6115-418a-a27c-b441195c50c1",
   "metadata": {},
   "source": [
    "Calculate the sum of all even numbers from 1 to 20 using a `for` loop. "
   ]
  },
  {
   "cell_type": "code",
   "execution_count": null,
   "id": "102ebf66-6cf2-4025-a3f0-475e1e69dfa4",
   "metadata": {},
   "outputs": [],
   "source": [
    "#Write Your Code Here:"
   ]
  },
  {
   "cell_type": "markdown",
   "id": "a81dda60-1dbb-4ad7-8058-7877c040bef1",
   "metadata": {},
   "source": [
    "<details>\n",
    "\n",
    "<summary>Answer</summary>\n",
    "\n",
    "\n",
    "```python\n",
    "sum_even = 0\n",
    "for i in 1:20\n",
    "    if i % 2 == 0\n",
    "        sum_even += i\n",
    "    end\n",
    "end\n",
    "println(\"The sum of even numbers from 1 to 20 is: $sum_even\")\n",
    "```\n",
    "</details>"
   ]
  },
  {
   "cell_type": "markdown",
   "id": "501d504e-e870-4a00-a611-0067b848ba1d",
   "metadata": {
    "jp-MarkdownHeadingCollapsed": true
   },
   "source": [
    "# CONDITIONALS"
   ]
  },
  {
   "cell_type": "markdown",
   "id": "cf8789a3-925b-4c67-9996-10ae5446b462",
   "metadata": {},
   "source": [
    "In julia, the syntax \n",
    "\n",
    "    if *Condition 1* \n",
    "        *option 1*\n",
    "    elseif *condition 2*\n",
    "        *option 2*\n",
    "    else *conditon 3*\n",
    "        *option 3*\n",
    "    end\n",
    "\n",
    "allows us to conditionally evaluate one of our options.\n"
   ]
  },
  {
   "cell_type": "markdown",
   "id": "f12a247f-3bd2-4846-8a3f-aae5f219c17f",
   "metadata": {},
   "source": [
    "For example, we might want to compare the size of two numbers."
   ]
  },
  {
   "cell_type": "markdown",
   "id": "4ac564bb-10f7-4951-b3df-6a37afffd416",
   "metadata": {},
   "source": [
    "Pick your favourite numbers below!"
   ]
  },
  {
   "cell_type": "code",
   "execution_count": null,
   "id": "3475c98a-ea32-4591-a9fe-696655575ede",
   "metadata": {},
   "outputs": [],
   "source": [
    "x = 3 \n",
    "y = 90"
   ]
  },
  {
   "cell_type": "code",
   "execution_count": null,
   "id": "f7114803-f8b4-48ce-925c-a6a16c5a9404",
   "metadata": {},
   "outputs": [],
   "source": [
    "if x > y \n",
    "    println(\"$x is larger than $y\")      # If x is greater than y, print this message\n",
    "elseif y > x \n",
    "    println(\"$y is larger than $x\")      # If y is greater than x, print this message\n",
    "else \n",
    "    println(\"$x and $y are equal to each other\")  # If x and y are equal, print this\n",
    "end\n"
   ]
  },
  {
   "cell_type": "markdown",
   "id": "06f8ee4b-9b00-4189-804f-04e8ee9edfb6",
   "metadata": {},
   "source": [
    "let's say we want to return the larger of the two numbers."
   ]
  },
  {
   "cell_type": "code",
   "execution_count": null,
   "id": "fc72e5ee-b42f-4ac4-8c1d-606bcdf9c59e",
   "metadata": {},
   "outputs": [],
   "source": [
    "if x > y \n",
    "    x         # If x is greater than y, return x\n",
    "else \n",
    "    y         # Otherwise, return y\n",
    "end\n"
   ]
  },
  {
   "cell_type": "markdown",
   "id": "417e8c5c-d377-4bd2-96f6-c4f4abb9be9d",
   "metadata": {},
   "source": [
    "For this last block, we could instead use the ternary operator with the syntax <br>\n",
    "`a ? b : c` <br>\n",
    "Which equates to \n",
    "\n",
    "    if a \n",
    "        b\n",
    "    else \n",
    "        c \n",
    "    end\n",
    "i.e. if `a` is `True` then execute `b` or else `c`."
   ]
  },
  {
   "cell_type": "code",
   "execution_count": null,
   "id": "6f8b60d2-1ab9-47a4-9bb5-60e246183cb6",
   "metadata": {},
   "outputs": [],
   "source": [
    "(x > y) ? x : y"
   ]
  },
  {
   "cell_type": "markdown",
   "id": "0bcff4c4-9eec-4d75-a516-20f8a08d34ce",
   "metadata": {},
   "source": [
    "A fun related trick is short circuit evaluation with the syntax. <br>\n",
    "`a && b`"
   ]
  },
  {
   "cell_type": "code",
   "execution_count": null,
   "id": "6b6280d3-cccc-4cff-8383-c7409ff9419c",
   "metadata": {},
   "outputs": [],
   "source": [
    "(x > y) && println(\"$x is larger than $y\")"
   ]
  },
  {
   "cell_type": "code",
   "execution_count": null,
   "id": "ac036f4e-4040-46af-9199-c09daeae4e92",
   "metadata": {},
   "outputs": [],
   "source": [
    "(x < y) && println(\"$x is smaller than $y\")"
   ]
  },
  {
   "cell_type": "markdown",
   "id": "8735b3a6-aeab-4352-aa9c-6e24a3430712",
   "metadata": {},
   "source": [
    "When we use `&&` , `b` executes only if `a` evaluates to be `true`. <br>\n",
    "If `a` evaluates to `false`, the expression `a && b` returns `false`. "
   ]
  },
  {
   "cell_type": "markdown",
   "id": "1a142328-af5a-4200-869b-d47a43f1e66a",
   "metadata": {},
   "source": [
    "## Exercise 6:"
   ]
  },
  {
   "cell_type": "markdown",
   "id": "ae383eb1-b359-4b93-9ffd-e317ae777631",
   "metadata": {},
   "source": [
    "Use a variable that represents a student's score and determine the grade based on a standard grading scale."
   ]
  },
  {
   "cell_type": "code",
   "execution_count": null,
   "id": "0d52e497-f0a8-4656-8db8-dc28b4631ac6",
   "metadata": {},
   "outputs": [],
   "source": [
    "#Write Your Code Here:"
   ]
  },
  {
   "cell_type": "markdown",
   "id": "804b8a54-7b9f-483a-a670-0ec67ac01af7",
   "metadata": {},
   "source": [
    "<details>\n",
    "\n",
    "<summary>Answer</summary>\n",
    "\n",
    "\n",
    "```python\n",
    "score = 85\n",
    "\n",
    "if score >= 90\n",
    "    println(\"Grade: A\")\n",
    "elseif score >= 80\n",
    "    println(\"Grade: B\")\n",
    "elseif score >= 70\n",
    "    println(\"Grade: C\")\n",
    "elseif score >= 60\n",
    "    println(\"Grade: D\")\n",
    "else\n",
    "    println(\"Grade: F\")\n",
    "end\n",
    "```\n",
    "</details>"
   ]
  },
  {
   "cell_type": "markdown",
   "id": "efd5c239-7760-4860-9de7-ebd482a615bb",
   "metadata": {
    "jp-MarkdownHeadingCollapsed": true
   },
   "source": [
    "# FUNCTIONS"
   ]
  },
  {
   "cell_type": "markdown",
   "id": "3c6406f4-6677-44a5-a827-d695cf9c9d12",
   "metadata": {},
   "source": [
    "Topics:\n",
    "\n",
    "<ol>\n",
    "    <li> How to declare a function</li>\n",
    "    <li> Broadcasting</li>\n",
    "</ol>"
   ]
  },
  {
   "cell_type": "markdown",
   "id": "46b2ab8b-dbb9-4561-a29b-827eb33e364e",
   "metadata": {},
   "source": [
    "## How to declare a Function\n"
   ]
  },
  {
   "cell_type": "markdown",
   "id": "608c493c-d3f2-4149-8236-7440b887f12d",
   "metadata": {},
   "source": [
    "Julia gives us a few different ways to write a function. The first requires the `function` and `end` keywords."
   ]
  },
  {
   "cell_type": "code",
   "execution_count": null,
   "id": "a2cd7a6c-8c70-4560-925d-afcd6d7fae69",
   "metadata": {},
   "outputs": [],
   "source": [
    "function sayhi(name)\n",
    "    println(\"Hi $name, it's great to see you today!\")\n",
    "end"
   ]
  },
  {
   "cell_type": "code",
   "execution_count": null,
   "id": "6141a36c-4b20-496b-8ca0-6a9b92dab6df",
   "metadata": {},
   "outputs": [],
   "source": [
    "function f(x)\n",
    "    return x^2\n",
    "end"
   ]
  },
  {
   "cell_type": "markdown",
   "id": "318533bd-d47c-4172-adfc-59e42427e998",
   "metadata": {},
   "source": [
    "We can call either of these functions like this:"
   ]
  },
  {
   "cell_type": "code",
   "execution_count": null,
   "id": "13cb390b-7de0-4d5e-a42e-536276ac5e02",
   "metadata": {},
   "outputs": [],
   "source": [
    "sayhi(\"Ali\")"
   ]
  },
  {
   "cell_type": "code",
   "execution_count": null,
   "id": "cc6ed37d-ddb1-49e7-a99a-8d28a69efd41",
   "metadata": {},
   "outputs": [],
   "source": [
    "f(2)"
   ]
  },
  {
   "cell_type": "markdown",
   "id": "10395bbe-0e2e-483a-a1aa-9f57e3401dc4",
   "metadata": {},
   "source": [
    "Alternatively, we could have declared either of these functions in a single line."
   ]
  },
  {
   "cell_type": "code",
   "execution_count": null,
   "id": "88cc4644-b705-469d-b307-f82698349b3d",
   "metadata": {},
   "outputs": [],
   "source": [
    "sayhi1(name) = println(\"Hi $name, it's great to see you today!\")"
   ]
  },
  {
   "cell_type": "code",
   "execution_count": null,
   "id": "0d6f5275-dfb3-4a26-b266-d955e5fbc82f",
   "metadata": {},
   "outputs": [],
   "source": [
    "f2(x) = x^2"
   ]
  },
  {
   "cell_type": "markdown",
   "id": "777a1f91-4fa3-473d-b4ea-0f1a7209d171",
   "metadata": {},
   "source": [
    "Similarly, we can call these fucntions as before:"
   ]
  },
  {
   "cell_type": "code",
   "execution_count": null,
   "id": "c1499aeb-48a5-4f2f-9323-f368f31b7fb3",
   "metadata": {},
   "outputs": [],
   "source": [
    "f2(23)"
   ]
  },
  {
   "cell_type": "code",
   "execution_count": null,
   "id": "77a6d1f7-608d-4e2b-a4f0-5190660c4d37",
   "metadata": {},
   "outputs": [],
   "source": [
    "sayhi1(\"Minhal\")"
   ]
  },
  {
   "cell_type": "markdown",
   "id": "1d5f97b9-b971-4aed-8421-e931fe7dbbfc",
   "metadata": {},
   "source": [
    "Finally, we could have declared these as \"anonymous\" functions."
   ]
  },
  {
   "cell_type": "code",
   "execution_count": null,
   "id": "1e2802d9-19cf-4006-89e6-1b5da04e7473",
   "metadata": {},
   "outputs": [],
   "source": [
    "sayhi3 = name -> println(\"Hi, $name, it's great to see you!\")"
   ]
  },
  {
   "cell_type": "code",
   "execution_count": null,
   "id": "6be69d55-fabd-449b-aced-3f4b85862644",
   "metadata": {},
   "outputs": [],
   "source": [
    "f3 = x -> x^2"
   ]
  },
  {
   "cell_type": "markdown",
   "id": "f69e75fc-44e8-48a2-b813-3113a191f8d3",
   "metadata": {},
   "source": [
    "### Exercise 7: Calculating Potential Energy\n",
    "#### Objective\n",
    "Create a function in Julia to calculate the potential energy of an object based on its mass and height above the ground.\n",
    "\n",
    "#### Formulas\n",
    "The potential energy (PE) of an object can be calculated using the following formula:\n",
    "\n",
    "\n",
    "PE = m × g × h\n",
    "\n",
    "Where:\n",
    "- \\( PE \\) = Potential Energy (in Joules)\n",
    "- \\( m \\) = Mass of the object (in kilograms)\n",
    "- \\( g \\) = Acceleration due to gravity (approximately 9.81 m/s² on Earth)\n",
    "- \\( h \\) = Height of the object above the ground (in meters)\n",
    "\n",
    "#### Instructions\n",
    "1. Define a function named `potential_energy` that takes two parameters: `mass` (in kilograms) and `height` (in meters).\n",
    "2. Inside the function, use the formula above to calculate the potential energy.\n",
    "3. Use predefined values for mass (10 kg) and height (5 m) to call the function.\n",
    "4. Print the calculated potential energy with an appropriate message.\n",
    "\n"
   ]
  },
  {
   "cell_type": "code",
   "execution_count": null,
   "id": "2f97dbec-8d7e-4744-ac8b-5ff0c747a959",
   "metadata": {},
   "outputs": [],
   "source": [
    "#Write your code here:"
   ]
  },
  {
   "cell_type": "markdown",
   "id": "369f8988-65e2-48d8-915c-b4a53d17c1b9",
   "metadata": {},
   "source": [
    "<details>\n",
    "\n",
    "<summary>Answer</summary>\n",
    "\n",
    "\n",
    "```julia\n",
    "# Function to calculate potential energy\n",
    "function potential_energy(mass, height)\n",
    "    g = 9.81  # Acceleration due to gravity in m/s^2\n",
    "    return mass * g * height  # Potential energy formula: PE = m * g * h\n",
    "end\n",
    "\n",
    "# Predefined values\n",
    "mass = 10.0  # Mass in kilograms\n",
    "height = 5.0  # Height in meters\n",
    "\n",
    "# Calculate potential energy using the function\n",
    "pe = potential_energy(mass, height)\n",
    "\n",
    "# Display the result\n",
    "println(\"The potential energy of an object with mass $mass kg at height $height m is $pe Joules.\")\n",
    "```\n",
    "</details>"
   ]
  },
  {
   "cell_type": "markdown",
   "id": "72215b57-319a-41f5-96ef-27636def99b9",
   "metadata": {
    "jp-MarkdownHeadingCollapsed": true
   },
   "source": [
    "## Broadcasting a Function"
   ]
  },
  {
   "cell_type": "markdown",
   "id": "cbfdd41b-1d3e-4849-a381-d024429ae90d",
   "metadata": {},
   "source": [
    "By placing a `.` between any function name and it's argument list, <br>\n",
    "we tell that function to broadcast over the elements of the input objects."
   ]
  },
  {
   "cell_type": "markdown",
   "id": "585850f8-c9c5-497e-9f9d-ebec7947ebcc",
   "metadata": {},
   "source": [
    "Let's look at the difference in the behaviour between `f()` and `f.()` <br>\n",
    "First we'll define a matrix `A` that will make the difference easier to illustrate."
   ]
  },
  {
   "cell_type": "code",
   "execution_count": null,
   "id": "d6c24f04-fa86-4b31-a3ce-62acb33d5d4c",
   "metadata": {},
   "outputs": [],
   "source": [
    "A = [i + 3*j for j in 0:2, i in 1:3]"
   ]
  },
  {
   "cell_type": "code",
   "execution_count": null,
   "id": "4f4c5846-9191-4344-8222-c89badf1c189",
   "metadata": {},
   "outputs": [],
   "source": [
    "f(x) = x^2\n",
    "f(A)"
   ]
  },
  {
   "cell_type": "markdown",
   "id": "a7ac0617-4396-4764-ba77-606fad8a1788",
   "metadata": {},
   "source": [
    "As before we see that for a matrix , `A`\n",
    "\n",
    "    `f(A) = A^2 = A * A`\n",
    "\n",
    "`f.(A)` on the other hand will return an object that holds the square of `A[i,j]` at it's corresponding entry."
   ]
  },
  {
   "cell_type": "code",
   "execution_count": null,
   "id": "cf9e4deb-1499-46dd-b415-b6cb48349759",
   "metadata": {},
   "outputs": [],
   "source": [
    "f.(A)"
   ]
  },
  {
   "cell_type": "markdown",
   "id": "ad9f431f-7a1a-4a62-a7ac-53fa99b2966f",
   "metadata": {},
   "source": [
    "# ADDING PACKAGES"
   ]
  },
  {
   "cell_type": "markdown",
   "id": "40445988-9308-4c5f-bdc0-8685485bfa6a",
   "metadata": {},
   "source": [
    "The Julia ecosystem contains over 10,000 packages, amking packages a hugh part of julia ecosystem. <br>\n",
    "To see all available packages, check out: <br>\n",
    "https://juliapackages.com/<br>\n",
    "\n",
    "For now, let's learn how to use a package:"
   ]
  },
  {
   "cell_type": "code",
   "execution_count": null,
   "id": "8addb4fd-e055-4dcd-89d7-176c6bafdb1f",
   "metadata": {},
   "outputs": [],
   "source": [
    "using Pkg\n",
    "Pkg.add(\"Example\")"
   ]
  },
  {
   "cell_type": "markdown",
   "id": "06a5d4c6-b595-49cd-91fc-1a1a23e3803b",
   "metadata": {},
   "source": [
    "Check the packages installed in your environment:"
   ]
  },
  {
   "cell_type": "code",
   "execution_count": null,
   "id": "3b99fb7a-7620-4554-a240-21cda7deaf6e",
   "metadata": {},
   "outputs": [],
   "source": [
    "Pkg.status()"
   ]
  },
  {
   "cell_type": "markdown",
   "id": "694f8500-6139-4577-b3c3-2a28db098090",
   "metadata": {
    "jp-MarkdownHeadingCollapsed": true
   },
   "source": [
    "# PLOTTING"
   ]
  },
  {
   "cell_type": "markdown",
   "id": "a9007890-2af0-43cd-8d1a-5f525adf4263",
   "metadata": {},
   "source": [
    "## Basics\n",
    "There are a few different ways to plot in Julia (including PyPlot). <br>\n",
    "Here, we'll show you how to use `Plots.jl`."
   ]
  },
  {
   "cell_type": "code",
   "execution_count": null,
   "id": "447176e9-3aeb-4b4e-a29a-6b93f1902744",
   "metadata": {},
   "outputs": [],
   "source": [
    "#using Pkg\n",
    "#Pkg.add(\"Plots\")\n",
    "using Plots"
   ]
  },
  {
   "cell_type": "code",
   "execution_count": null,
   "id": "4428832e-49b5-4b64-954b-7173cdf3506b",
   "metadata": {},
   "outputs": [],
   "source": [
    "x = -3:0.1:3 #An array take values between -3 and 3 with increment of 0.1\n",
    "y = f.(x)"
   ]
  },
  {
   "cell_type": "code",
   "execution_count": null,
   "id": "d7b26c73-4a93-4a27-acde-27673bb7b59c",
   "metadata": {},
   "outputs": [],
   "source": [
    "plot(x,y, label = \"line\")\n",
    "scatter!(x,y, label = \"points\")"
   ]
  },
  {
   "cell_type": "markdown",
   "id": "8b2015be-ceb6-4985-abae-6c83ec8f4f16",
   "metadata": {},
   "source": [
    "## Getting slightly fancier"
   ]
  },
  {
   "cell_type": "markdown",
   "id": "26d71cf1-ddcd-4f60-8ae2-5fc97429e6ac",
   "metadata": {},
   "source": [
    "The syntax for adding titles and labels to your plots is pretty straightforward.<br>\n",
    "This time, in the name of scientific inquiry, let's examine the global temperature and the number of prates between the global temperature <br>\n",
    "and the number of pirates between roughly 1860 and 2000."
   ]
  },
  {
   "cell_type": "code",
   "execution_count": null,
   "id": "40b622ae-6a7f-41f8-a399-1f453cd7b1a1",
   "metadata": {},
   "outputs": [],
   "source": [
    "globaltemperatures = [14.4, 14.5, 14.8, 15.2, 15.5, 15.8]\n",
    "numpirates = [45000, 20000, 15000, 5000, 400, 17]\n",
    "\n",
    "#First plot the data \n",
    "plot(numpirates, globaltemperatures, legend = false)\n",
    "scatter!(numpirates, globaltemperatures, legend = false)\n",
    "\n",
    "#This reverses x axis we can see how the temperature changes as:\n",
    "xflip!()\n",
    "\n",
    "#Add titles and labels\n",
    "xlabel!(\"Number of Pirates [approximate]\")\n",
    "ylabel!(\"Global Temperature (C)\")\n",
    "title!(\"Influence of pirate population on global warming\")"
   ]
  }
 ],
 "metadata": {
  "kernelspec": {
   "display_name": "Julia 1.10.4",
   "language": "julia",
   "name": "julia-1.10"
  },
  "language_info": {
   "file_extension": ".jl",
   "mimetype": "application/julia",
   "name": "julia",
   "version": "1.10.4"
  }
 },
 "nbformat": 4,
 "nbformat_minor": 5
}
