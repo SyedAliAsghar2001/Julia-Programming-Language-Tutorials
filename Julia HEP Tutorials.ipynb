{
 "cells": [
  {
   "cell_type": "markdown",
   "id": "5decf672-3aba-45f2-b0e7-794797fccfd7",
   "metadata": {},
   "source": [
    "# <img src=\"https://github.com/JuliaLang/julia-logo-graphics/raw/master/images/julia-logo-color.png\" height=\"100\" />\n",
    "\n"
   ]
  },
  {
   "cell_type": "markdown",
   "id": "3cdbd176-1147-4b41-a822-f36141ce706b",
   "metadata": {},
   "source": [
    "# Julia in HEP(High Energy Physics)"
   ]
  },
  {
   "cell_type": "code",
   "execution_count": null,
   "id": "b50b66c3-51f8-4b6e-8da4-5f9b7fde381a",
   "metadata": {},
   "outputs": [],
   "source": []
  },
  {
   "cell_type": "markdown",
   "id": "8610500c-8c20-4958-b472-62e7d16914a9",
   "metadata": {},
   "source": [
    "## Part 1"
   ]
  },
  {
   "cell_type": "code",
   "execution_count": null,
   "id": "b6e9447a-6a23-492b-93ff-c346877d4c55",
   "metadata": {},
   "outputs": [],
   "source": [
    "#using Pkg\n",
    "#Pkg.add(\"Distributions\")"
   ]
  },
  {
   "cell_type": "code",
   "execution_count": null,
   "id": "fa68ab48-f515-4bc0-87b1-74658af00086",
   "metadata": {},
   "outputs": [],
   "source": [
    "using Random\n",
    "\n",
    "# Define the decay channels and their probabilities\n",
    "decay_channels = Dict(\n",
    "    \"bb\" => 0.60,  \n",
    "    \"cc\" => 0.03,  \n",
    "    \"ττ\" => 0.06,  \n",
    "    \"WW\" => 0.19,  \n",
    "    \"ZZ\" => 0.12   \n",
    ")\n",
    "\n",
    "# Ensure the probabilities sum to 1 with a tolerance\n",
    "total_probability = sum(values(decay_channels))\n",
    "tolerance = 1e-10  # Define a small tolerance\n",
    "\n",
    "# Missing line(s): Complete the probability validation check\n",
    "if abs(total_probability - 1.0) > tolerance\n",
    "    # Complete this line to handle the error\n",
    "end\n",
    "\n",
    "# Function to simulate a Higgs boson decay\n",
    "function decay_higgs()\n",
    "    rand_value = rand()\n",
    "    cumulative_probability = 0.0\n",
    "\n",
    "    for (channel, probability) in decay_channels\n",
    "        cumulative_probability += probability\n",
    "        if rand_value < cumulative_probability\n",
    "            return channel\n",
    "        end\n",
    "    end\n",
    "\n",
    "    return \"Invalid Decay\"  # This should never be reached\n",
    "end\n",
    "\n",
    "# Simulate multiple Higgs boson decays\n",
    "num_decays = 100000\n",
    "results = Dict(channel => 0 for channel in keys(decay_channels))\n",
    "\n",
    "for _ in 1:num_decays\n",
    "    decay_channel = decay_higgs()\n",
    "    results[decay_channel] += 1\n",
    "end\n",
    "\n",
    "# Print the results\n",
    "println(\"Decay Channel Results after $num_decays decays:\")\n",
    "for (channel, count) in results\n",
    "    percentage = count / num_decays * 100\n",
    "    println(\"H -> $channel: $count ($(round(percentage, digits=2)))%\")\n",
    "end"
   ]
  },
  {
   "cell_type": "markdown",
   "id": "c0d134d5-9efb-483c-9b12-b7349721ea86",
   "metadata": {},
   "source": [
    "## Part 2"
   ]
  },
  {
   "cell_type": "code",
   "execution_count": null,
   "id": "a4054996-4761-42c7-a425-7dca589d4d31",
   "metadata": {},
   "outputs": [],
   "source": [
    "using Random\n",
    "using Plots\n",
    "using Distributions  # Import the Distributions package\n",
    "\n",
    "# Set the random seed for reproducibility\n",
    "Random.seed!(123)\n",
    "\n",
    "# Number of particles to simulate\n",
    "num_particles = 1000\n",
    "\n",
    "# Simulate energy values for particles (e.g., normally distributed energies)\n",
    "mean_energy = 50.0  # Mean energy\n",
    "std_dev_energy = 10.0  # Standard deviation\n",
    "energies = rand(Normal(mean_energy, std_dev_energy), num_particles)\n",
    "\n",
    "# Plotting the energy distribution\n",
    "histogram(energies, bins=30, title=\"Energy Distribution of Particles\", xlabel=\"Energy\", ylabel=\"Number of Particles\", legend=false)"
   ]
  },
  {
   "cell_type": "code",
   "execution_count": null,
   "id": "5e59e168-3e1d-47da-8139-fe975e64d7e2",
   "metadata": {},
   "outputs": [],
   "source": []
  }
 ],
 "metadata": {
  "kernelspec": {
   "display_name": "Julia 1.10.4",
   "language": "julia",
   "name": "julia-1.10"
  },
  "language_info": {
   "file_extension": ".jl",
   "mimetype": "application/julia",
   "name": "julia",
   "version": "1.10.4"
  }
 },
 "nbformat": 4,
 "nbformat_minor": 5
}
